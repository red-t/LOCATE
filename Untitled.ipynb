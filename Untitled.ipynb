{
 "cells": [
  {
   "cell_type": "code",
   "execution_count": 2,
   "metadata": {},
   "outputs": [],
   "source": [
    "%load_ext Cython"
   ]
  },
  {
   "cell_type": "code",
   "execution_count": 6,
   "metadata": {},
   "outputs": [],
   "source": [
    "%%cython\n",
    "\n",
    "# cython: c_string_encoding=UTF-8\n",
    "# cython: c_string_type=unicode\n",
    "\n",
    "cdef bytes a = 'hello world'.encode('UTF-8')\n",
    "cdef const char* b = a"
   ]
  },
  {
   "cell_type": "code",
   "execution_count": 26,
   "metadata": {},
   "outputs": [
    {
     "name": "stdout",
     "output_type": "stream",
     "text": [
      "CPU times: user 0 ns, sys: 0 ns, total: 0 ns\n",
      "Wall time: 1.8 ms\n"
     ]
    }
   ],
   "source": [
    "%%time\n",
    "%%cython\n",
    "from libc.stdio cimport FILE, fopen, fclose, fprintf, printf\n",
    "n = [1,2,3,4]\n",
    "cdef bytes a = 'hello {} {} world\\n'.format(n[0], n[1]).encode('UTF-8')\n",
    "cdef const char* b = a\n",
    "# cdef FILE* outf = fopen(\"test.out\", \"w\")\n",
    "printf(b)\n",
    "# fprintf(outf, b)\n",
    "# fclose(outf)"
   ]
  },
  {
   "cell_type": "code",
   "execution_count": 27,
   "metadata": {},
   "outputs": [
    {
     "name": "stdout",
     "output_type": "stream",
     "text": [
      "CPU times: user 0 ns, sys: 0 ns, total: 0 ns\n",
      "Wall time: 10.4 s\n"
     ]
    }
   ],
   "source": [
    "%%time\n",
    "import time\n",
    "for _ in range(1000):\n",
    "    time.sleep(0.01)\n",
    "    "
   ]
  },
  {
   "cell_type": "code",
   "execution_count": 46,
   "metadata": {},
   "outputs": [
    {
     "name": "stdout",
     "output_type": "stream",
     "text": [
      "20.6 µs ± 23.1 ns per loop (mean ± std. dev. of 7 runs, 10000 loops each)\n"
     ]
    }
   ],
   "source": [
    "import numpy\n",
    "%timeit numpy.random.normal(size=1000)"
   ]
  },
  {
   "cell_type": "code",
   "execution_count": 50,
   "metadata": {},
   "outputs": [],
   "source": [
    "%%cython\n",
    "from libc.stdio cimport FILE, fopen, fclose, fprintf, printf\n",
    "to_p = ['hello world {}\\n'.format(x) for x in range(1000)]\n",
    "\n",
    "cpdef write_file_c(list to_p):\n",
    "    cdef:\n",
    "        str a\n",
    "        bytes b, fout_name = \"print_c.out\".encode(\"UTF-8\")\n",
    "        const char* fout_path = fout_name\n",
    "        const char* c\n",
    "        FILE* fout = fopen(fout_path, \"w\")\n",
    "    \n",
    "    for a in to_p:\n",
    "        b = a.encode('UTF-8')\n",
    "        c = b\n",
    "        fprintf(fout, c)\n",
    "    \n",
    "    fclose(fout)\n",
    "\n",
    "cpdef write_file_p(list to_p):\n",
    "    cdef:\n",
    "        object fout\n",
    "        str line, fout_name = \"print_p.out\"\n",
    "    \n",
    "    with open(fout_name, \"w\") as fout:\n",
    "        for line in to_p:\n",
    "            fout.write(line)\n",
    "\n",
    "\n",
    "\n",
    "# write_file_c(to_p)\n",
    "# write_file_p(to_p)"
   ]
  },
  {
   "cell_type": "code",
   "execution_count": 1,
   "metadata": {},
   "outputs": [
    {
     "name": "stdout",
     "output_type": "stream",
     "text": [
      "Runnig time for C:\n",
      "\n",
      "11 ms ± 102 µs per loop (mean ± std. dev. of 7 runs, 100 loops each)\n",
      "Runnig time for Python:\n",
      "\n",
      "11 ms ± 151 µs per loop (mean ± std. dev. of 7 runs, 100 loops each)\n"
     ]
    }
   ],
   "source": [
    "from test import write_file_c, write_file_p\n",
    "to_p = ['hello world {}\\n'.format(x) for x in range(10000)]\n",
    "\n",
    "print(\"Runnig time for C:\\n\")\n",
    "%timeit write_file_c(to_p)\n",
    "\n",
    "print(\"Runnig time for Python:\\n\")\n",
    "%timeit write_file_p(to_p)"
   ]
  },
  {
   "cell_type": "code",
   "execution_count": 15,
   "metadata": {},
   "outputs": [
    {
     "name": "stdout",
     "output_type": "stream",
     "text": [
      "LINE1 2 6019 6544 12420 -1 60 True\n",
      "LINE1 3805 6013 31 2210 1 60 True\n"
     ]
    }
   ],
   "source": [
    "%%cython\n",
    "\n",
    "import mappy as mp\n",
    "aln=mp.Aligner(\"ALUL1SVA.mmi\", preset=\"splice\", best_n=5)\n",
    "# print(aln.seq_names)\n",
    "for name, seq, qual in mp.fastx_read(\"t.fa\"):\n",
    "    for hit in aln.map(seq):\n",
    "        print(hit.ctg, hit.r_st, hit.r_en, hit.q_st, hit.q_en, hit.strand, hit.mapq, hit.is_primary)"
   ]
  }
 ],
 "metadata": {
  "kernelspec": {
   "display_name": "Python 3",
   "language": "python",
   "name": "python3"
  },
  "language_info": {
   "codemirror_mode": {
    "name": "ipython",
    "version": 3
   },
   "file_extension": ".py",
   "mimetype": "text/x-python",
   "name": "python",
   "nbconvert_exporter": "python",
   "pygments_lexer": "ipython3",
   "version": "3.8.5"
  }
 },
 "nbformat": 4,
 "nbformat_minor": 4
}
